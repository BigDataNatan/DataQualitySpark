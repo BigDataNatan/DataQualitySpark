{
 "cells": [
  {
   "cell_type": "markdown",
   "id": "ef55f048",
   "metadata": {},
   "source": [
    "## Gerador de DataSet em CSV para o Exercício\n",
    "Execute o Script abaixo para gerar o Dataset para ser utilizado no [exercicio](../exercicio.md)"
   ]
  },
  {
   "cell_type": "code",
   "execution_count": null,
   "id": "f0c2dcef",
   "metadata": {
    "scrolled": true
   },
   "outputs": [
    {
     "name": "stdout",
     "output_type": "stream",
     "text": [
      "Arquivo de Logística Bruto gerado em: /home/jovyan/data/logistica_raw.csv\n",
      "\n",
      "--- INGESTÃO BEM-SUCEDIDA (5 linhas brutas) ---\n",
      "+-----------+--------------+---------------+--------------+--------------+\n",
      "|ID_RASTREIO|DATA_ENVIO_RAW|CUSTO_FRETE_RAW|CIDADE_DESTINO|STATUS_ENTREGA|\n",
      "+-----------+--------------+---------------+--------------+--------------+\n",
      "|      L9001|    2024-05-10|          15.50|     Sao Paulo|      ENTREGUE|\n",
      "|      L9002|    2024/05/11|             22|            00|           Rio|\n",
      "|      L9003|    2024-05-12|         100.00|      Salvador|          NULL|\n",
      "|      L9004|    2024-05-12|           NULL|            BH|      PENDENTE|\n",
      "|      L9004|    2024-05-12|           NULL|            BH|      PENDENTE|\n",
      "+-----------+--------------+---------------+--------------+--------------+\n",
      "\n",
      "root\n",
      " |-- ID_RASTREIO: string (nullable = true)\n",
      " |-- DATA_ENVIO_RAW: string (nullable = true)\n",
      " |-- CUSTO_FRETE_RAW: string (nullable = true)\n",
      " |-- CIDADE_DESTINO: string (nullable = true)\n",
      " |-- STATUS_ENTREGA: string (nullable = true)\n",
      "\n"
     ]
    }
   ],
   "source": [
    "from pyspark.sql import SparkSession\n",
    "from pyspark.sql import functions as F\n",
    "from pyspark.sql.types import StructType, StructField, StringType\n",
    "import os\n",
    "\n",
    "# 1. Inicialização da SparkSession (garantir que está rodando)\n",
    "spark = SparkSession.builder.appName(\"DesafioLogistica\").getOrCreate()\n",
    "\n",
    "# --- DADOS BRUTOS (Substitui o createDataFrame) ---\n",
    "\n",
    "# CORREÇÃO: Usamos o caminho ABSOLUTO do contêiner para o volume 'data'\n",
    "caminho_local_data = \"/home/tavares/data/\"\n",
    "nome_arquivo = \"logistica_raw.csv\"\n",
    "caminho_completo = os.path.join(caminho_local_data, nome_arquivo)\n",
    "\n",
    "csv_content = \"\"\"ID_RASTREIO,DATA_ENVIO_RAW,CUSTO_FRETE_RAW,CIDADE_DESTINO,STATUS_ENTREGA\n",
    "L9001,2024-05-10,15.50,Sao Paulo,ENTREGUE\n",
    "L9002,2024/05/11,22,00,Rio,Em Trânsito\n",
    "L9003,2024-05-12,100.00,Salvador,\n",
    "L9004,2024-05-12,,BH,PENDENTE\n",
    "L9004,2024-05-12,,BH,PENDENTE\n",
    "\"\"\"\n",
    "# A escrita deve ser feita no caminho_completo\n",
    "with open(caminho_completo, \"w\") as f:\n",
    "    f.write(csv_content)\n",
    "print(f\"Arquivo de Logística Bruto gerado em: {caminho_completo}\")\n",
    "\n",
    "# --- PONTO DE PARTIDA DO ALUNO: LEITURA ---\n",
    "\n",
    "# Defina o Schema (TODAS COMO StringType)\n",
    "schema_logistica = StructType([\n",
    "    StructField(\"ID_RASTREIO\", StringType(), nullable=False),\n",
    "    StructField(\"DATA_ENVIO_RAW\", StringType(), nullable=True),\n",
    "    StructField(\"CUSTO_FRETE_RAW\", StringType(), nullable=True),\n",
    "    StructField(\"CIDADE_DESTINO\", StringType(), nullable=True),\n",
    "    StructField(\"STATUS_ENTREGA\", StringType(), nullable=True)\n",
    "])\n",
    "\n",
    "# Carregar o DataFrame para teste\n",
    "# A leitura deve usar o mesmo caminho_completo\n",
    "df_logistica_raw = (\n",
    "    spark.read\n",
    "    .csv(\n",
    "        caminho_completo,\n",
    "        header=True,\n",
    "        schema=schema_logistica,\n",
    "        sep=\",\"\n",
    "    )\n",
    ")\n",
    "\n",
    "print(\"\\n--- INGESTÃO BEM-SUCEDIDA (5 linhas brutas) ---\")\n",
    "df_logistica_raw.show()\n",
    "df_logistica_raw.printSchema()\n"
   ]
  },
  {
   "cell_type": "code",
   "execution_count": null,
   "id": "2699b6b6-e5bc-4984-bdf2-25eb971e54e3",
   "metadata": {},
   "outputs": [],
   "source": []
  }
 ],
 "metadata": {
  "kernelspec": {
   "display_name": "Python 3 (ipykernel)",
   "language": "python",
   "name": "python3"
  },
  "language_info": {
   "codemirror_mode": {
    "name": "ipython",
    "version": 3
   },
   "file_extension": ".py",
   "mimetype": "text/x-python",
   "name": "python",
   "nbconvert_exporter": "python",
   "pygments_lexer": "ipython3",
   "version": "3.11.6"
  }
 },
 "nbformat": 4,
 "nbformat_minor": 5
}
